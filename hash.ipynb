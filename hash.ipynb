{
 "cells": [
  {
   "cell_type": "markdown",
   "metadata": {},
   "source": [
    "# Demonštrácia použitia asociatívneho poľa v PYTHON\n",
    "   Školenie - Úvod do programovacieho jazyka PYTHON - GOPAS\n"
   ]
  },
  {
   "cell_type": "markdown",
   "metadata": {},
   "source": [
    "Nižšie je riešenie \"zamestnancov\" cez DICT poli, teda keď hodnota kľúča je pole...\n",
    "je to jedno, no nie jediné možné riešenie..."
   ]
  },
  {
   "cell_type": "code",
   "execution_count": null,
   "metadata": {
    "collapsed": false,
    "scrolled": true
   },
   "outputs": [],
   "source": [
    "#!/usr/bin/python\n",
    "\n",
    "zam = {\n",
    "'meno': ['peter', 'jan','fero','eva','katka'],\n",
    "'priezvisko': ['novy', 'stary','velky','krasna','pekna'],\n",
    "'tel': ['2312', '4556','2345','5678','9876'],\n",
    "'funkcia': ['prog', 'admin','sales','mgmt','tech']\n",
    "\t}\n",
    "\n",
    "for kluc,obsah in zam.items():\n",
    "\tprint kluc.rjust(20).upper(),'\\t ---> \\t',[x.capitalize() for x in obsah]\n",
    "while True:\n",
    "\tvstup = raw_input(\"Hladaj [q/Q - Koniec]: \")\n",
    "\tvstup=vstup.lower()\n",
    "\tif vstup=='q':\n",
    "\t\tbreak\n",
    "\tfor kluc, obsah in zam.items():\n",
    "\t\tif vstup in obsah:\n",
    "\t\t\tindx=obsah.index(vstup)\n",
    "\n",
    "\tfor all in zam.keys():\n",
    "\t\tprint all.rjust(20).upper(),'->\\t', zam[all][indx].upper()\n"
   ]
  },
  {
   "cell_type": "markdown",
   "metadata": {},
   "source": [
    "   Pre viac info pozri :               [Data Science Lab](https://www.facebook.com/Data-Science-Lab-866619993424184/)\n",
    "                                      \n",
    "            \n",
    "                                    (c) 2015, Ing. Tibor Kurina, PhD"
   ]
  },
  {
   "cell_type": "code",
   "execution_count": null,
   "metadata": {
    "collapsed": true
   },
   "outputs": [],
   "source": []
  }
 ],
 "metadata": {
  "kernelspec": {
   "display_name": "Python 2",
   "language": "python",
   "name": "python2"
  },
  "language_info": {
   "codemirror_mode": {
    "name": "ipython",
    "version": 2
   },
   "file_extension": ".py",
   "mimetype": "text/x-python",
   "name": "python",
   "nbconvert_exporter": "python",
   "pygments_lexer": "ipython2",
   "version": "2.7.10"
  }
 },
 "nbformat": 4,
 "nbformat_minor": 0
}
