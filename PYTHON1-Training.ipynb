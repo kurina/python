{
 "cells": [
  {
   "cell_type": "markdown",
   "metadata": {
    "slideshow": {
     "slide_type": "fragment"
    }
   },
   "source": [
    "   >>># PYTHON I.\n",
    "   # GOPAS SR, a.s.\n",
    "   ## Ing. Tibor Kurina, Ph.D.\n",
    "   ## kurina@gopas.sk"
   ]
  },
  {
   "cell_type": "markdown",
   "metadata": {},
   "source": [
    ">1. Čo je Python\n",
    "2. Inštalácia\n",
    "3. Dokumentácia \n",
    "4. Python <> iPython <> pip <> Anaconda <> Pandas a ostatný\n",
    "5. PYthon Package Index https://pypi.python.org/pypi\n"
   ]
  },
  {
   "cell_type": "code",
   "execution_count": null,
   "metadata": {
    "collapsed": false
   },
   "outputs": [],
   "source": [
    "import this"
   ]
  },
  {
   "cell_type": "markdown",
   "metadata": {
    "slideshow": {
     "slide_type": "slide"
    }
   },
   "source": [
    "## Dátové typy"
   ]
  },
  {
   "cell_type": "markdown",
   "metadata": {
    "slideshow": {
     "slide_type": "subslide"
    }
   },
